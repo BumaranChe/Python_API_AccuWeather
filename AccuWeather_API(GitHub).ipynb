{
  "nbformat": 4,
  "nbformat_minor": 0,
  "metadata": {
    "colab": {
      "provenance": [],
      "authorship_tag": "ABX9TyPgm3Wx78Na9UfiknD7W1s8",
      "include_colab_link": true
    },
    "kernelspec": {
      "name": "python3",
      "display_name": "Python 3"
    },
    "language_info": {
      "name": "python"
    }
  },
  "cells": [
    {
      "cell_type": "markdown",
      "metadata": {
        "id": "view-in-github",
        "colab_type": "text"
      },
      "source": [
        "<a href=\"https://colab.research.google.com/github/BumaranChe/Python_API_AccuWeather/blob/main/AccuWeather_API(GitHub).ipynb\" target=\"_parent\"><img src=\"https://colab.research.google.com/assets/colab-badge.svg\" alt=\"Open In Colab\"/></a>"
      ]
    },
    {
      "cell_type": "markdown",
      "source": [
        "https://developer.accuweather.com/\n",
        "\n",
        "**AccuWeather**\n",
        "\n",
        "Getting weather forecast of a city, current weather condition of the city and 1 day of daily weather forecast"
      ],
      "metadata": {
        "id": "909andhdc17G"
      }
    },
    {
      "cell_type": "markdown",
      "source": [
        "**This API contents weather data that you can't code out, so that's why we are requesting data from this API**\n",
        "\n",
        "1.) Location -----> https://developer.accuweather.com/accuweather-locations-api/apis/get/locations/v1/cities/search\n",
        "\n",
        "2.) Current Conditions--->https://developer.accuweather.com/accuweather-current-conditions-api/apis/get/currentconditions/v1/%7BlocationKey%7D\n",
        "\n",
        "3.) Forecast ----> https://developer.accuweather.com/accuweather-forecast-api/apis/get/forecasts/v1/daily/1day/%7BlocationKey%7D"
      ],
      "metadata": {
        "id": "of1fGTJw1hjj"
      }
    },
    {
      "cell_type": "code",
      "execution_count": 4,
      "metadata": {
        "id": "XYKwC-gxNDqn"
      },
      "outputs": [],
      "source": [
        "import requests\n",
        "\n",
        "API_KEY=\"*************************************\" # create an account in AccuWeather and get your own API KEY  -> https://developer.accuweather.com/"
      ]
    },
    {
      "cell_type": "markdown",
      "source": [
        "**Location** -----> https://developer.accuweather.com/accuweather-locations-api/apis/get/locations/v1/cities/search\n",
        "\n",
        "Based on the documentation\n",
        "\n",
        "(i) This API returns infomation for an array of cities that match the search text\n",
        "\n",
        "(ii) needs 2 query param (apikey & q)"
      ],
      "metadata": {
        "id": "rgtxPVcCC48P"
      }
    },
    {
      "cell_type": "code",
      "source": [
        "def city_search(api_key, q):\n",
        "  end_point=\"http://dataservice.accuweather.com/locations/v1/cities/search\" # end-point AccuWeather (API REFERENCE -> Locations API -> City Search)\n",
        "  params= {\n",
        "      \"apikey\":api_key, #API_KEY\n",
        "      \"q\":q # text to search for\n",
        "  }\n",
        "\n",
        "  response = requests.get(end_point,params=params) # getting response from end-point\n",
        "\n",
        "  if response.status_code==200:\n",
        "    return response.json() # return response in json format\n",
        "  else:\n",
        "    print(f\"Error:{response.status_code}\") # error\n",
        "    return None"
      ],
      "metadata": {
        "id": "pJbErLBYNGIy"
      },
      "execution_count": 2,
      "outputs": []
    },
    {
      "cell_type": "code",
      "source": [
        "city_result=city_search(API_KEY,\"kuala lumpur\")\n",
        "print(city_result) # output is list of dictionary\n",
        "print(len(city_result))"
      ],
      "metadata": {
        "colab": {
          "base_uri": "https://localhost:8080/"
        },
        "id": "2nMOzq2aNPUC",
        "outputId": "1002dc77-75fd-4997-ad8d-8eb15e3ce290"
      },
      "execution_count": 17,
      "outputs": [
        {
          "output_type": "stream",
          "name": "stdout",
          "text": [
            "[{'Version': 1, 'Key': '233776', 'Type': 'City', 'Rank': 20, 'LocalizedName': 'Kuala Lumpur', 'EnglishName': 'Kuala Lumpur', 'PrimaryPostalCode': '', 'Region': {'ID': 'ASI', 'LocalizedName': 'Asia', 'EnglishName': 'Asia'}, 'Country': {'ID': 'MY', 'LocalizedName': 'Malaysia', 'EnglishName': 'Malaysia'}, 'AdministrativeArea': {'ID': '14', 'LocalizedName': 'Kuala Lumpur', 'EnglishName': 'Kuala Lumpur', 'Level': 1, 'LocalizedType': 'State', 'EnglishType': 'State', 'CountryID': 'MY'}, 'TimeZone': {'Code': 'MYT', 'Name': 'Asia/Kuala_Lumpur', 'GmtOffset': 8.0, 'IsDaylightSaving': False, 'NextOffsetChange': None}, 'GeoPosition': {'Latitude': 3.158, 'Longitude': 101.712, 'Elevation': {'Metric': {'Value': 61.0, 'Unit': 'm', 'UnitType': 5}, 'Imperial': {'Value': 200.0, 'Unit': 'ft', 'UnitType': 0}}}, 'IsAlias': False, 'SupplementalAdminAreas': [], 'DataSets': ['AirQualityCurrentConditions', 'AirQualityForecasts', 'FutureRadar', 'MinuteCast']}, {'Version': 1, 'Key': '3483201', 'Type': 'City', 'Rank': 85, 'LocalizedName': 'Kuala Lumpur', 'EnglishName': 'Kuala Lumpur', 'PrimaryPostalCode': '', 'Region': {'ID': 'ASI', 'LocalizedName': 'Asia', 'EnglishName': 'Asia'}, 'Country': {'ID': 'ID', 'LocalizedName': 'Indonesia', 'EnglishName': 'Indonesia'}, 'AdministrativeArea': {'ID': 'GO', 'LocalizedName': 'Gorontalo', 'EnglishName': 'Gorontalo', 'Level': 1, 'LocalizedType': 'Province', 'EnglishType': 'Province', 'CountryID': 'ID'}, 'TimeZone': {'Code': 'CIT', 'Name': 'Asia/Makassar', 'GmtOffset': 8.0, 'IsDaylightSaving': False, 'NextOffsetChange': None}, 'GeoPosition': {'Latitude': 0.644, 'Longitude': 122.577, 'Elevation': {'Metric': {'Value': 158.0, 'Unit': 'm', 'UnitType': 5}, 'Imperial': {'Value': 518.0, 'Unit': 'ft', 'UnitType': 0}}}, 'IsAlias': False, 'SupplementalAdminAreas': [{'Level': 2, 'LocalizedName': 'Boalemo', 'EnglishName': 'Boalemo'}, {'Level': 3, 'LocalizedName': 'Paguyaman', 'EnglishName': 'Paguyaman'}], 'DataSets': ['AirQualityCurrentConditions', 'AirQualityForecasts', 'Alerts', 'FutureRadar', 'MinuteCast']}]\n",
            "2\n"
          ]
        }
      ]
    },
    {
      "cell_type": "markdown",
      "source": [
        "Based on the results, there are 2 types of Key for kuala lumpur. The valid key is at index zero [0] of the output (Dictionary)"
      ],
      "metadata": {
        "id": "17vYSxlpBF5B"
      }
    },
    {
      "cell_type": "code",
      "source": [
        "for x in city_result:\n",
        "  print(x)"
      ],
      "metadata": {
        "colab": {
          "base_uri": "https://localhost:8080/"
        },
        "id": "I0HcozWqB7Cm",
        "outputId": "d91874af-6f4c-4721-c6a7-dcdaf055caaf"
      },
      "execution_count": 18,
      "outputs": [
        {
          "output_type": "stream",
          "name": "stdout",
          "text": [
            "{'Version': 1, 'Key': '233776', 'Type': 'City', 'Rank': 20, 'LocalizedName': 'Kuala Lumpur', 'EnglishName': 'Kuala Lumpur', 'PrimaryPostalCode': '', 'Region': {'ID': 'ASI', 'LocalizedName': 'Asia', 'EnglishName': 'Asia'}, 'Country': {'ID': 'MY', 'LocalizedName': 'Malaysia', 'EnglishName': 'Malaysia'}, 'AdministrativeArea': {'ID': '14', 'LocalizedName': 'Kuala Lumpur', 'EnglishName': 'Kuala Lumpur', 'Level': 1, 'LocalizedType': 'State', 'EnglishType': 'State', 'CountryID': 'MY'}, 'TimeZone': {'Code': 'MYT', 'Name': 'Asia/Kuala_Lumpur', 'GmtOffset': 8.0, 'IsDaylightSaving': False, 'NextOffsetChange': None}, 'GeoPosition': {'Latitude': 3.158, 'Longitude': 101.712, 'Elevation': {'Metric': {'Value': 61.0, 'Unit': 'm', 'UnitType': 5}, 'Imperial': {'Value': 200.0, 'Unit': 'ft', 'UnitType': 0}}}, 'IsAlias': False, 'SupplementalAdminAreas': [], 'DataSets': ['AirQualityCurrentConditions', 'AirQualityForecasts', 'FutureRadar', 'MinuteCast']}\n",
            "{'Version': 1, 'Key': '3483201', 'Type': 'City', 'Rank': 85, 'LocalizedName': 'Kuala Lumpur', 'EnglishName': 'Kuala Lumpur', 'PrimaryPostalCode': '', 'Region': {'ID': 'ASI', 'LocalizedName': 'Asia', 'EnglishName': 'Asia'}, 'Country': {'ID': 'ID', 'LocalizedName': 'Indonesia', 'EnglishName': 'Indonesia'}, 'AdministrativeArea': {'ID': 'GO', 'LocalizedName': 'Gorontalo', 'EnglishName': 'Gorontalo', 'Level': 1, 'LocalizedType': 'Province', 'EnglishType': 'Province', 'CountryID': 'ID'}, 'TimeZone': {'Code': 'CIT', 'Name': 'Asia/Makassar', 'GmtOffset': 8.0, 'IsDaylightSaving': False, 'NextOffsetChange': None}, 'GeoPosition': {'Latitude': 0.644, 'Longitude': 122.577, 'Elevation': {'Metric': {'Value': 158.0, 'Unit': 'm', 'UnitType': 5}, 'Imperial': {'Value': 518.0, 'Unit': 'ft', 'UnitType': 0}}}, 'IsAlias': False, 'SupplementalAdminAreas': [{'Level': 2, 'LocalizedName': 'Boalemo', 'EnglishName': 'Boalemo'}, {'Level': 3, 'LocalizedName': 'Paguyaman', 'EnglishName': 'Paguyaman'}], 'DataSets': ['AirQualityCurrentConditions', 'AirQualityForecasts', 'Alerts', 'FutureRadar', 'MinuteCast']}\n"
          ]
        }
      ]
    },
    {
      "cell_type": "code",
      "source": [
        "print(city_result[0]) # print idx [0] of the dictionary, 2 different dictionaries inside a list, output is list of dicionary"
      ],
      "metadata": {
        "colab": {
          "base_uri": "https://localhost:8080/"
        },
        "id": "31GT97M5Cmwk",
        "outputId": "24b7d402-00b5-45ac-c317-89b36f853a0f"
      },
      "execution_count": 44,
      "outputs": [
        {
          "output_type": "stream",
          "name": "stdout",
          "text": [
            "{'Version': 1, 'Key': '233776', 'Type': 'City', 'Rank': 20, 'LocalizedName': 'Kuala Lumpur', 'EnglishName': 'Kuala Lumpur', 'PrimaryPostalCode': '', 'Region': {'ID': 'ASI', 'LocalizedName': 'Asia', 'EnglishName': 'Asia'}, 'Country': {'ID': 'MY', 'LocalizedName': 'Malaysia', 'EnglishName': 'Malaysia'}, 'AdministrativeArea': {'ID': '14', 'LocalizedName': 'Kuala Lumpur', 'EnglishName': 'Kuala Lumpur', 'Level': 1, 'LocalizedType': 'State', 'EnglishType': 'State', 'CountryID': 'MY'}, 'TimeZone': {'Code': 'MYT', 'Name': 'Asia/Kuala_Lumpur', 'GmtOffset': 8.0, 'IsDaylightSaving': False, 'NextOffsetChange': None}, 'GeoPosition': {'Latitude': 3.158, 'Longitude': 101.712, 'Elevation': {'Metric': {'Value': 61.0, 'Unit': 'm', 'UnitType': 5}, 'Imperial': {'Value': 200.0, 'Unit': 'ft', 'UnitType': 0}}}, 'IsAlias': False, 'SupplementalAdminAreas': [], 'DataSets': ['AirQualityCurrentConditions', 'AirQualityForecasts', 'FutureRadar', 'MinuteCast']}\n"
          ]
        }
      ]
    },
    {
      "cell_type": "markdown",
      "source": [
        "**Current Conditions API** ---> Current Conditions --> https://developer.accuweather.com/accuweather-current-conditions-api/apis/get/currentconditions/v1/%7BlocationKey%7D\n",
        "\n",
        "Based on the documentation there 2 important parameters required\n",
        "\n",
        "(i) Current conditions data for a specific location.\n",
        "\n",
        "(ii) needs 1 query param(apikey)"
      ],
      "metadata": {
        "id": "_PDmfPK9DMpN"
      }
    },
    {
      "cell_type": "code",
      "source": [
        "def current_conditions(api_key, location_key):\n",
        "\n",
        "  endpoint = f\"http://dataservice.accuweather.com/currentconditions/v1/{location_key}\" # end-point AccuWeather (API Reference-> Current Conditions API-> Current Conditions)\n",
        "  params = {\n",
        "      \"apikey\":api_key, # API_KEY\n",
        "  }\n",
        "  response = requests.get(endpoint, params=params) #getting response from end-point\n",
        "\n",
        "  if response.status_code == 200:\n",
        "    return response.json() #return response in json format\n",
        "  else:\n",
        "    print(f\"Error: {response.status_code}\") # error\n",
        "    return None"
      ],
      "metadata": {
        "id": "Nxv8r-a_FXrX"
      },
      "execution_count": 27,
      "outputs": []
    },
    {
      "cell_type": "code",
      "source": [
        "kl_key = city_result[0][\"Key\"] # getting Key information from dictionary 1\n",
        "conditions_result=current_conditions(API_KEY, kl_key) # caling current_condition method\n",
        "print(len(conditions_result))\n",
        "print(conditions_result)\n",
        "print(conditions_result[0].keys()) # print out keys of conditions_result index [0] , output is list of dictionary, so need to identify the index"
      ],
      "metadata": {
        "colab": {
          "base_uri": "https://localhost:8080/"
        },
        "id": "O1XPocsbGG8l",
        "outputId": "bc2932b0-ba72-4c43-8345-5d89b4d7d4aa"
      },
      "execution_count": 52,
      "outputs": [
        {
          "output_type": "stream",
          "name": "stdout",
          "text": [
            "1\n",
            "[{'LocalObservationDateTime': '2025-05-07T14:50:00+08:00', 'EpochTime': 1746600600, 'WeatherText': 'Clouds and sun', 'WeatherIcon': 4, 'HasPrecipitation': False, 'PrecipitationType': None, 'IsDayTime': True, 'Temperature': {'Metric': {'Value': 32.2, 'Unit': 'C', 'UnitType': 17}, 'Imperial': {'Value': 90.0, 'Unit': 'F', 'UnitType': 18}}, 'MobileLink': 'http://www.accuweather.com/en/my/kuala-lumpur/233776/current-weather/233776?lang=en-us', 'Link': 'http://www.accuweather.com/en/my/kuala-lumpur/233776/current-weather/233776?lang=en-us'}]\n",
            "dict_keys(['LocalObservationDateTime', 'EpochTime', 'WeatherText', 'WeatherIcon', 'HasPrecipitation', 'PrecipitationType', 'IsDayTime', 'Temperature', 'MobileLink', 'Link'])\n"
          ]
        }
      ]
    },
    {
      "cell_type": "code",
      "source": [
        "for key,value in conditions_result[0].items(): # items is the data stored in dictionary ( key & value)\n",
        "  print(f\"Key: {key}, Value: {value}\") # print out key and value row by row"
      ],
      "metadata": {
        "colab": {
          "base_uri": "https://localhost:8080/"
        },
        "id": "SqOAV0sHG5fj",
        "outputId": "68dd359c-84e6-48ee-82f0-984ff907bca2"
      },
      "execution_count": 26,
      "outputs": [
        {
          "output_type": "stream",
          "name": "stdout",
          "text": [
            "Key: LocalObservationDateTime, Value: 2025-05-07T13:30:00+08:00\n",
            "Key: EpochTime, Value: 1746595800\n",
            "Key: WeatherText, Value: Hazy sunshine\n",
            "Key: WeatherIcon, Value: 5\n",
            "Key: HasPrecipitation, Value: False\n",
            "Key: PrecipitationType, Value: None\n",
            "Key: IsDayTime, Value: True\n",
            "Key: Temperature, Value: {'Metric': {'Value': 32.3, 'Unit': 'C', 'UnitType': 17}, 'Imperial': {'Value': 90.0, 'Unit': 'F', 'UnitType': 18}}\n",
            "Key: MobileLink, Value: http://www.accuweather.com/en/my/kuala-lumpur/233776/current-weather/233776?lang=en-us\n",
            "Key: Link, Value: http://www.accuweather.com/en/my/kuala-lumpur/233776/current-weather/233776?lang=en-us\n"
          ]
        }
      ]
    },
    {
      "cell_type": "markdown",
      "source": [
        "**Forecast API** --> 1 Day of Daily Forecast --> https://developer.accuweather.com/accuweather-forecast-api/apis/get/forecasts/v1/daily/1day/%7BlocationKey%7D\n",
        "\n",
        "Required parameters\n",
        "\n",
        "(i) API\n",
        "\n",
        "(ii) Needs 1 query param(apikey)"
      ],
      "metadata": {
        "id": "CZl1lAJzUnY7"
      }
    },
    {
      "cell_type": "code",
      "source": [
        "def get_daily_forecast(api_key, location_key):\n",
        "\n",
        "  endpoint = f\"http://dataservice.accuweather.com/forecasts/v1/daily/1day/{location_key}\" #end-point (API Reference -> Forecast API -> 1 Day of Daily Forecasts )\n",
        "  params = {\n",
        "      'apikey':api_key\n",
        "  }\n",
        "  response = requests.get(endpoint, params=params) # gettiing response from end-point\n",
        "\n",
        "  if response.status_code == 200:\n",
        "    return response.json() # geting response in json format\n",
        "  else:\n",
        "    print(f\"Error: {response.status_code}\") #error\n",
        "    return None"
      ],
      "metadata": {
        "id": "FVWTZzUWV5Qv"
      },
      "execution_count": 28,
      "outputs": []
    },
    {
      "cell_type": "code",
      "source": [
        "forecast_result = get_daily_forecast(API_KEY,kl_key) # calling the get_daily_forecast method\n",
        "print(forecast_result)\n",
        "print(len(forecast_result))"
      ],
      "metadata": {
        "colab": {
          "base_uri": "https://localhost:8080/"
        },
        "id": "ALnD_KB1WrGP",
        "outputId": "8c02c8a4-2b49-42c2-9bd3-2a886d32282b"
      },
      "execution_count": 47,
      "outputs": [
        {
          "output_type": "stream",
          "name": "stdout",
          "text": [
            "{'Headline': {'EffectiveDate': '2025-05-10T13:00:00+08:00', 'EffectiveEpochDate': 1746853200, 'Severity': 2, 'Text': 'Thunderstorms, some heavy, Saturday afternoon', 'Category': 'thunderstorm', 'EndDate': '2025-05-10T19:00:00+08:00', 'EndEpochDate': 1746874800, 'MobileLink': 'http://www.accuweather.com/en/my/kuala-lumpur/233776/daily-weather-forecast/233776?lang=en-us', 'Link': 'http://www.accuweather.com/en/my/kuala-lumpur/233776/daily-weather-forecast/233776?lang=en-us'}, 'DailyForecasts': [{'Date': '2025-05-07T07:00:00+08:00', 'EpochDate': 1746572400, 'Temperature': {'Minimum': {'Value': 76.0, 'Unit': 'F', 'UnitType': 18}, 'Maximum': {'Value': 93.0, 'Unit': 'F', 'UnitType': 18}}, 'Day': {'Icon': 6, 'IconPhrase': 'Mostly cloudy', 'HasPrecipitation': False}, 'Night': {'Icon': 41, 'IconPhrase': 'Partly cloudy w/ t-storms', 'HasPrecipitation': True, 'PrecipitationType': 'Rain', 'PrecipitationIntensity': 'Light'}, 'Sources': ['AccuWeather'], 'MobileLink': 'http://www.accuweather.com/en/my/kuala-lumpur/233776/daily-weather-forecast/233776?day=1&lang=en-us', 'Link': 'http://www.accuweather.com/en/my/kuala-lumpur/233776/daily-weather-forecast/233776?day=1&lang=en-us'}]}\n",
            "2\n"
          ]
        }
      ]
    },
    {
      "cell_type": "code",
      "source": [
        "for key,value in forecast_result.items(): # one single dictionary with 2 keys and 2 values, no need index\n",
        "  print(f\"Key: {key}, Value: {value}\")"
      ],
      "metadata": {
        "colab": {
          "base_uri": "https://localhost:8080/"
        },
        "id": "j3LXfMdoW4eu",
        "outputId": "d4e70fc1-f1b6-47bd-c92d-f004ba027639"
      },
      "execution_count": 50,
      "outputs": [
        {
          "output_type": "stream",
          "name": "stdout",
          "text": [
            "Key: Headline, Value: {'EffectiveDate': '2025-05-10T13:00:00+08:00', 'EffectiveEpochDate': 1746853200, 'Severity': 2, 'Text': 'Thunderstorms, some heavy, Saturday afternoon', 'Category': 'thunderstorm', 'EndDate': '2025-05-10T19:00:00+08:00', 'EndEpochDate': 1746874800, 'MobileLink': 'http://www.accuweather.com/en/my/kuala-lumpur/233776/daily-weather-forecast/233776?lang=en-us', 'Link': 'http://www.accuweather.com/en/my/kuala-lumpur/233776/daily-weather-forecast/233776?lang=en-us'}\n",
            "Key: DailyForecasts, Value: [{'Date': '2025-05-07T07:00:00+08:00', 'EpochDate': 1746572400, 'Temperature': {'Minimum': {'Value': 76.0, 'Unit': 'F', 'UnitType': 18}, 'Maximum': {'Value': 93.0, 'Unit': 'F', 'UnitType': 18}}, 'Day': {'Icon': 6, 'IconPhrase': 'Mostly cloudy', 'HasPrecipitation': False}, 'Night': {'Icon': 41, 'IconPhrase': 'Partly cloudy w/ t-storms', 'HasPrecipitation': True, 'PrecipitationType': 'Rain', 'PrecipitationIntensity': 'Light'}, 'Sources': ['AccuWeather'], 'MobileLink': 'http://www.accuweather.com/en/my/kuala-lumpur/233776/daily-weather-forecast/233776?day=1&lang=en-us', 'Link': 'http://www.accuweather.com/en/my/kuala-lumpur/233776/daily-weather-forecast/233776?day=1&lang=en-us'}]\n"
          ]
        }
      ]
    }
  ]
}